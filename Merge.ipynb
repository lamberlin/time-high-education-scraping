{
 "cells": [
  {
   "cell_type": "code",
   "execution_count": null,
   "metadata": {},
   "outputs": [],
   "source": [
    "\n",
    "import pandas as pd\n",
    "\n",
    "rk17 = pd.read_csv(\"rankings_2017.csv\")\n",
    "rk18 = pd.read_csv(\"rankings_2018.csv\")\n",
    "rk19 = pd.read_csv(\"rankings_2019.csv\")\n",
    "rk20 = pd.read_csv(\"rankings_2020.csv\")\n",
    "rk21 = pd.read_csv(\"rankings_2021.csv\")\n",
    "rk22 = pd.read_csv(\"rankings_2022.csv\")\n",
    "rk23 = pd.read_csv(\"rankings_2023.csv\")\n",
    "a17_18 = pd.merge(rk17, rk18, on=\"University\", how=\"inner\")\n",
    "# b = pd.concat([rk17, rk18], ignore_index=True)\n",
    "a17_18_19 = pd.merge(a17_18, rk19, on=\"University\", how=\"inner\")\n",
    "a17_18_19_20 = pd.merge(a17_18_19, rk20, on=\"University\", how=\"inner\")\n",
    "a17_18_19_20_21 = pd.merge(a17_18_19_20, rk21, on=\"University\", how=\"inner\")\n",
    "a17_18_19_20_21_22 = pd.merge(a17_18_19_20_21, rk22, on=\"University\", how=\"inner\")\n",
    "a17_18_19_20_21_22_23 = pd.merge(a17_18_19_20_21_22, rk23, on=\"University\", how=\"inner\")\n",
    "print(a17_18_19_20_21_22_23)\n",
    "a17_18_19_20_21_22_23.to_csv(\"ranking_merge.csv\")\n",
    "# a.to_csv(\"a.csv\")"
   ]
  }
 ],
 "metadata": {
  "kernelspec": {
   "display_name": "Python 3",
   "language": "python",
   "name": "python3"
  },
  "language_info": {
   "codemirror_mode": {
    "name": "ipython",
    "version": 3
   },
   "file_extension": ".py",
   "mimetype": "text/x-python",
   "name": "python",
   "nbconvert_exporter": "python",
   "pygments_lexer": "ipython3",
   "version": "3.7.6"
  }
 },
 "nbformat": 4,
 "nbformat_minor": 4
}
